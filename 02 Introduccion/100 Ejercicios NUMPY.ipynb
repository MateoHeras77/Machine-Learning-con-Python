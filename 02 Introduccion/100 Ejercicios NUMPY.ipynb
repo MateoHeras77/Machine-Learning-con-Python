{
 "cells": [
  {
   "cell_type": "code",
   "execution_count": 1,
   "metadata": {},
   "outputs": [],
   "source": [
    "import numpy as np"
   ]
  },
  {
   "cell_type": "code",
   "execution_count": 2,
   "metadata": {},
   "outputs": [
    {
     "data": {
      "text/plain": [
       "array([0., 0., 0., 0., 0., 0., 0., 0., 0., 0.])"
      ]
     },
     "execution_count": 2,
     "metadata": {},
     "output_type": "execute_result"
    }
   ],
   "source": [
    "#Null vector size 10\n",
    "np.zeros(10)"
   ]
  },
  {
   "cell_type": "code",
   "execution_count": 3,
   "metadata": {},
   "outputs": [
    {
     "data": {
      "text/plain": [
       "array([0., 0., 0., 0., 1., 0., 0., 0., 0., 0.])"
      ]
     },
     "execution_count": 3,
     "metadata": {},
     "output_type": "execute_result"
    }
   ],
   "source": [
    "z=np.zeros(10)\n",
    "z[4]=1\n",
    "z"
   ]
  },
  {
   "cell_type": "code",
   "execution_count": 5,
   "metadata": {},
   "outputs": [
    {
     "name": "stdout",
     "output_type": "stream",
     "text": [
      "[10 11 12 13 14 15 16 17 18 19 20 21 22 23 24 25 26 27 28 29 30 31 32 33\n",
      " 34 35 36 37 38 39 40 41 42 43 44 45 46 47 48]\n"
     ]
    }
   ],
   "source": [
    "z=np.arange(10,49)\n",
    "print(z)"
   ]
  },
  {
   "cell_type": "code",
   "execution_count": 10,
   "metadata": {},
   "outputs": [
    {
     "data": {
      "text/plain": [
       "array([49, 48, 47, 46, 45, 44, 43, 42, 41, 40, 39, 38, 37, 36, 35, 34, 33,\n",
       "       32, 31, 30, 29, 28, 27, 26, 25, 24, 23, 22, 21, 20, 19, 18, 17, 16,\n",
       "       15, 14, 13, 12, 11, 10,  9,  8,  7,  6,  5,  4,  3,  2,  1,  0])"
      ]
     },
     "execution_count": 10,
     "metadata": {},
     "output_type": "execute_result"
    }
   ],
   "source": [
    "# Reverse a vector (first element becomes last)\n",
    "z=np.arange(50)\n",
    "z=z[::-1]\n",
    "z"
   ]
  },
  {
   "cell_type": "code",
   "execution_count": 14,
   "metadata": {},
   "outputs": [
    {
     "data": {
      "text/plain": [
       "array([[0, 1, 2],\n",
       "       [3, 4, 5],\n",
       "       [6, 7, 8]])"
      ]
     },
     "execution_count": 14,
     "metadata": {},
     "output_type": "execute_result"
    }
   ],
   "source": [
    "#Create a 3x3 matrix with values ranging from 0 to 8\n",
    "z=np.arange(9).reshape(3,3)\n",
    "z"
   ]
  },
  {
   "cell_type": "code",
   "execution_count": 24,
   "metadata": {},
   "outputs": [
    {
     "name": "stdout",
     "output_type": "stream",
     "text": [
      "(array([0, 1, 4]),)\n"
     ]
    }
   ],
   "source": [
    "#Find indices of non­zero elements from [1,2,0,0,4,0]\n",
    "nz=np.nonzero([1,2,0,0,4,0])\n",
    "print(nz)"
   ]
  },
  {
   "cell_type": "code",
   "execution_count": 28,
   "metadata": {},
   "outputs": [
    {
     "data": {
      "text/plain": [
       "array([[1., 0., 0.],\n",
       "       [0., 1., 0.],\n",
       "       [0., 0., 1.]])"
      ]
     },
     "execution_count": 28,
     "metadata": {},
     "output_type": "execute_result"
    }
   ],
   "source": [
    "#Create a 3x3 identity matrix\n",
    "#id=np.identity(3)\n",
    "id=np.eye(3)\n",
    "\n",
    "id"
   ]
  },
  {
   "cell_type": "code",
   "execution_count": 56,
   "metadata": {},
   "outputs": [
    {
     "data": {
      "text/plain": [
       "array([[[0.02506798, 0.66555253, 0.70147279],\n",
       "        [0.38804602, 0.28253434, 0.63663448],\n",
       "        [0.28148812, 0.44069437, 0.94482087]],\n",
       "\n",
       "       [[0.92602726, 0.00199335, 0.4974721 ],\n",
       "        [0.05109205, 0.78100139, 0.13253617],\n",
       "        [0.60227539, 0.8101746 , 0.59495482]],\n",
       "\n",
       "       [[0.65583892, 0.14869769, 0.11882029],\n",
       "        [0.66925657, 0.54195109, 0.46501315],\n",
       "        [0.21319397, 0.56231858, 0.78508063]]])"
      ]
     },
     "execution_count": 56,
     "metadata": {},
     "output_type": "execute_result"
    }
   ],
   "source": [
    "# Create a 3x3x3 array with random values\n",
    "z=np.random.random((3,3,3))\n",
    "z"
   ]
  },
  {
   "cell_type": "code",
   "execution_count": 59,
   "metadata": {},
   "outputs": [
    {
     "name": "stdout",
     "output_type": "stream",
     "text": [
      "[[0.33250921 0.30125018 0.83517925 0.01026455 0.8063785  0.89010235\n",
      "  0.43778813 0.50827494 0.49964622 0.89960947]\n",
      " [0.27291483 0.31850567 0.27197108 0.43377637 0.13017557 0.40707114\n",
      "  0.48825991 0.11223781 0.68219957 0.10849416]\n",
      " [0.32216059 0.27910476 0.99765746 0.37602037 0.43169318 0.02679184\n",
      "  0.47481191 0.9119509  0.2539594  0.56403323]\n",
      " [0.76851738 0.21808206 0.93973887 0.37556474 0.22573911 0.75681913\n",
      "  0.57608152 0.01582278 0.48548638 0.08413311]\n",
      " [0.27293449 0.51886115 0.124863   0.96279262 0.91062503 0.10204879\n",
      "  0.47669692 0.33443679 0.08444008 0.2240197 ]\n",
      " [0.39012669 0.26096557 0.45366149 0.73620447 0.15433092 0.74040583\n",
      "  0.94418208 0.08705998 0.31141603 0.72532055]\n",
      " [0.81939778 0.06195568 0.42711961 0.17098448 0.20598317 0.30918541\n",
      "  0.02286404 0.99646831 0.36458616 0.43825622]\n",
      " [0.19561991 0.21760303 0.8157491  0.45850813 0.11925525 0.00703639\n",
      "  0.91651495 0.41346472 0.07840422 0.50639751]\n",
      " [0.47795779 0.68081912 0.0361     0.09569026 0.0427676  0.24714751\n",
      "  0.6099936  0.89681853 0.46687185 0.91066335]\n",
      " [0.12096604 0.182243   0.04839234 0.69052918 0.80250218 0.1939997\n",
      "  0.95892075 0.98332664 0.52441265 0.74563235]]\n",
      "0.0070363861287314755\n",
      "0.9976574649749324\n"
     ]
    }
   ],
   "source": [
    "# Create a 10x10 array with random values and find the minimum and maximum values\n",
    "z= np.random.rand(10,10)\n",
    "print(z)\n",
    "print(z.min())\n",
    "print(z.max())"
   ]
  },
  {
   "cell_type": "code",
   "execution_count": 62,
   "metadata": {},
   "outputs": [
    {
     "data": {
      "text/plain": [
       "0.5763855725002774"
      ]
     },
     "execution_count": 62,
     "metadata": {},
     "output_type": "execute_result"
    }
   ],
   "source": [
    "#Create a random vector of size 30 and find the mean value\n",
    "v = np.random.random(30)\n",
    "v.mean()"
   ]
  },
  {
   "cell_type": "code",
   "execution_count": 78,
   "metadata": {},
   "outputs": [
    {
     "data": {
      "text/plain": [
       "array([[1., 1., 1., 1., 1.],\n",
       "       [1., 0., 0., 0., 1.],\n",
       "       [1., 0., 0., 0., 1.],\n",
       "       [1., 0., 0., 0., 1.],\n",
       "       [1., 1., 1., 1., 1.]])"
      ]
     },
     "execution_count": 78,
     "metadata": {},
     "output_type": "execute_result"
    }
   ],
   "source": [
    "#Create a 2d array with 1 on the border and 0 inside\n",
    "z=np.ones((5,5))\n",
    "z[1:-1,1:-1]=0\n",
    "z"
   ]
  },
  {
   "cell_type": "code",
   "execution_count": 96,
   "metadata": {},
   "outputs": [
    {
     "data": {
      "text/plain": [
       "array([[1., 1., 1., 1., 1., 1., 1.],\n",
       "       [1., 0., 0., 0., 0., 0., 1.],\n",
       "       [1., 0., 0., 0., 0., 0., 1.],\n",
       "       [1., 0., 0., 0., 0., 0., 1.],\n",
       "       [1., 0., 0., 0., 0., 0., 1.],\n",
       "       [1., 0., 0., 0., 0., 0., 1.],\n",
       "       [1., 1., 1., 1., 1., 1., 1.]])"
      ]
     },
     "execution_count": 96,
     "metadata": {},
     "output_type": "execute_result"
    }
   ],
   "source": [
    "z=np.zeros((7,7))\n",
    "z[:,(0,-1)]=1\n",
    "z[(0,-1),:]=1\n",
    "z"
   ]
  },
  {
   "cell_type": "code",
   "execution_count": 99,
   "metadata": {},
   "outputs": [
    {
     "name": "stdout",
     "output_type": "stream",
     "text": [
      "nan\n",
      "False\n",
      "False\n",
      "nan\n",
      "False\n"
     ]
    }
   ],
   "source": [
    "#What is the result of the following expression?\n",
    "print (0 * np.nan)\n",
    "\n",
    "print(np.nan == np.nan)\n",
    "\n",
    "print(np.inf > np.nan)\n",
    "print(np.nan - np.nan)\n",
    "\n",
    "print(0.3 == 3 * 0.1)"
   ]
  },
  {
   "cell_type": "code",
   "execution_count": 117,
   "metadata": {},
   "outputs": [
    {
     "data": {
      "text/plain": [
       "array([[0, 0, 0, 0, 0],\n",
       "       [1, 0, 0, 0, 0],\n",
       "       [0, 2, 0, 0, 0],\n",
       "       [0, 0, 3, 0, 0],\n",
       "       [0, 0, 0, 4, 0]])"
      ]
     },
     "execution_count": 117,
     "metadata": {},
     "output_type": "execute_result"
    }
   ],
   "source": [
    "#Create a 5x5 matrix with values 1,2,3,4 just below the diagonal\n",
    "np.diag(1+np.arange(4),k=-1)"
   ]
  },
  {
   "cell_type": "code",
   "execution_count": 137,
   "metadata": {},
   "outputs": [
    {
     "data": {
      "text/plain": [
       "array([[0, 1, 0, 1, 0, 1, 0, 1],\n",
       "       [1, 0, 1, 0, 1, 0, 1, 0],\n",
       "       [0, 1, 0, 1, 0, 1, 0, 1],\n",
       "       [1, 0, 1, 0, 1, 0, 1, 0],\n",
       "       [0, 1, 0, 1, 0, 1, 0, 1],\n",
       "       [1, 0, 1, 0, 1, 0, 1, 0],\n",
       "       [0, 1, 0, 1, 0, 1, 0, 1],\n",
       "       [1, 0, 1, 0, 1, 0, 1, 0]])"
      ]
     },
     "execution_count": 137,
     "metadata": {},
     "output_type": "execute_result"
    }
   ],
   "source": [
    "#Create a 8x8 matrix and fill it with a checkerboard pattern\n",
    "z=np.zeros((8,8), dtype=int)\n",
    "z[1::2,::2]=1\n",
    "z[::2,1::2]=1\n",
    "z"
   ]
  },
  {
   "cell_type": "code",
   "execution_count": 145,
   "metadata": {},
   "outputs": [
    {
     "name": "stdout",
     "output_type": "stream",
     "text": [
      "(1, 5, 4)\n"
     ]
    }
   ],
   "source": [
    "#18. Consider a (6,7,8) shape array, what is the index (x,y,z) of the 100th element?\n",
    "print(np.unravel_index(100,(6,7,8)))\n"
   ]
  },
  {
   "cell_type": "code",
   "execution_count": null,
   "metadata": {},
   "outputs": [],
   "source": []
  },
  {
   "cell_type": "code",
   "execution_count": null,
   "metadata": {},
   "outputs": [],
   "source": []
  },
  {
   "cell_type": "code",
   "execution_count": null,
   "metadata": {},
   "outputs": [],
   "source": []
  }
 ],
 "metadata": {
  "kernelspec": {
   "display_name": "Python 3",
   "language": "python",
   "name": "python3"
  },
  "language_info": {
   "codemirror_mode": {
    "name": "ipython",
    "version": 3
   },
   "file_extension": ".py",
   "mimetype": "text/x-python",
   "name": "python",
   "nbconvert_exporter": "python",
   "pygments_lexer": "ipython3",
   "version": "3.8.5"
  }
 },
 "nbformat": 4,
 "nbformat_minor": 4
}
